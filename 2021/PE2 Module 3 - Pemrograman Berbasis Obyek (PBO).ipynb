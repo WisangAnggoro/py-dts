{
 "cells": [
  {
   "cell_type": "markdown",
   "metadata": {
    "colab_type": "text",
    "id": "view-in-github"
   },
   "source": [
    "<a href=\"https://colab.research.google.com/github/sykrn/py-dts/blob/master/Modul_6_OOP_and_file_operation.ipynb\" target=\"_parent\"><img src=\"https://colab.research.google.com/assets/colab-badge.svg\" alt=\"Open In Colab\"/></a>"
   ]
  },
  {
   "cell_type": "markdown",
   "metadata": {
    "colab_type": "text",
    "id": "v1glAk2VJek9"
   },
   "source": [
    "# <center> Pemrograman Berbasis Obyek </center>\n",
    "\n",
    "## OA-DTS Python 2021\n",
    "##### oleh:\n",
    "- Dr. Syukron Abu Ishaq Alfarozi\n",
    "- Wisang Jati Anggoro, S.T.\n",
    "\n",
    "##### referensi:\n",
    "- Netacad\n"
   ]
  },
  {
   "cell_type": "markdown",
   "metadata": {},
   "source": [
    "## Materi Modul\n",
    "\n",
    "- Basic concepts of object-oriented programming (OOP)\n",
    "- The differences between the procedural and object approaches (motivations and profits)\n",
    "- Classes, objects, properties, and methods;\n",
    "- Designing reusable classes and creating objects;\n",
    "- Inheritance and polymorphism;\n",
    "- Exceptions as objects.\n"
   ]
  },
  {
   "cell_type": "markdown",
   "metadata": {
    "colab_type": "text",
    "id": "8b2SFmZUJek_"
   },
   "source": [
    "# Pemrograman Berbasis Obyek (PBO) a.k.a. OOP\n",
    "\n",
    "Konsep dari OOP dalam python ini berfokus dalam pembuatan kode yang reusable (dapat digunakan kembali). Konsep ini juga dikenal dengan DRY (Don't Repeat Yourself).\n",
    "\n",
    "Dalam python, konsep OOP memiliki beberapa prinsip dasar:\n",
    "\n",
    "| Sifat   | Deskripsi   |\n",
    "|---------------|---------------------------------------------------------------------------------|\n",
    "| Inheritance   | Proses dalam menggunakan atribut dan behaviour dari class yang telah ada sebelumnya.   |\n",
    "| Encapsulation* | Menyembunyikan atribut dan behavior yang bersifat private dari kelas lainnya.                  |\n",
    "| Polymorphism*  | Sebuah konsep untuk menggunakan operasi yang sama dengan cara yang berbeda pada kelas lain. |\n",
    "\n",
    "Konsep ini akan terlihat lebih mudah dalam prakteknya nanti"
   ]
  },
  {
   "cell_type": "markdown",
   "metadata": {
    "colab_type": "text",
    "id": "ZbSOm3mhJelB"
   },
   "source": [
    "## Function vs Method\n",
    "\n",
    "* Fungsi : Sebuah prosedur untuk mengolah masukan menjadi keluaran.\n",
    "* Method : Sebuah fungsi yang menempel di suatu Object yang bisa (tidak harus) merubah object tersebut.\n",
    "\n",
    "### Coba perhatikan contoh di bawah ini:\n",
    "<!-- Contoh buidin method pada python list -->"
   ]
  },
  {
   "cell_type": "code",
   "execution_count": null,
   "metadata": {
    "colab": {},
    "colab_type": "code",
    "id": "WXJXNTWkJelC"
   },
   "outputs": [],
   "source": [
    "ls = [3,2,1,4,5,7,8,0]\n",
    "print('ls terurut\\t:',sorted(ls))\n",
    "print('ls tidak urut\\t:', ls)\n",
    "\n",
    "ls2 = [3,2,1,4,5,7,8,0]\n",
    "ls2.sort()\n",
    "print('ls2 terutut\\t:',ls2)"
   ]
  },
  {
   "cell_type": "markdown",
   "metadata": {
    "colab_type": "text",
    "id": "Re058XbIJelH"
   },
   "source": [
    "## Class and Inheritance\n",
    "\n",
    "Class adalah sebuah blueprint/konsep dari suatu objek.\n",
    "![class1.JPG](https://github.com/sykrn/py-dts/blob/master/class1.JPG?raw=1)\n"
   ]
  },
  {
   "cell_type": "markdown",
   "metadata": {
    "cell_style": "split",
    "colab_type": "text",
    "id": "q6LFiqjqJelJ"
   },
   "source": [
    "### Inheritance (Pewarisan sifat)\n",
    "\n",
    "* `superclass/Parent` lebih bersifat umum dari pada `subclass`.\n",
    "* `subclass` mewarisi sifat dari `superclass/Parent` \n",
    "\n",
    "![class2.JPG](https://github.com/sykrn/py-dts/blob/master/class2.JPG?raw=1)"
   ]
  },
  {
   "cell_type": "markdown",
   "metadata": {
    "cell_style": "split",
    "colab_type": "text",
    "id": "fu9rAwT-JelK"
   },
   "source": [
    "<br/>\n",
    "<br/>\n",
    "<br/>\n",
    "\n",
    "\n",
    "![inheritance.JPG](https://github.com/sykrn/py-dts/blob/master/inheritance.JPG?raw=1)"
   ]
  },
  {
   "cell_type": "code",
   "execution_count": null,
   "metadata": {
    "cell_style": "split",
    "colab": {},
    "colab_type": "code",
    "id": "5gmFkM38JelL"
   },
   "outputs": [],
   "source": [
    "# Contoh pendifinisian class\n",
    "\n",
    "class Hewan:\n",
    "    def __init__(self,nama):\n",
    "        self.nama = nama\n",
    "    def gerak(self):\n",
    "        print('gerak-gerak!!!')\n",
    "\n",
    "class HewanDarat(Hewan):\n",
    "    def __init__(self,nama,kaki=0):\n",
    "        super().__init__(nama)     # Inheritence\n",
    "        self.kaki = kaki         # properti/sifat baru\n",
    "        \n",
    "    def gerak(self):             # Polymorphism\n",
    "        print(self.nama,'gerak di darat dengan kaki',self.kaki)\n",
    "\n",
    "class HewanAir(Hewan):\n",
    "    def __init__(self,nama,sirip='kecil'):\n",
    "        super().__init__(nama)     # Inheritence\n",
    "        self.sirip = sirip       # properti/sifat baru\n",
    "        \n",
    "    def gerak(self):             # Polymorphism\n",
    "        print(self.nama,'gerak di air dengan sirip', self.sirip)\n",
    "\n"
   ]
  },
  {
   "cell_type": "code",
   "execution_count": null,
   "metadata": {
    "cell_style": "split",
    "colab": {},
    "colab_type": "code",
    "id": "9NembN9UJelP"
   },
   "outputs": [],
   "source": [
    "hewan = Hewan('pokoknya hewan')\n",
    "kambing = HewanDarat('kambing',kaki=4)\n",
    "hiu = HewanAir('hiu',sirip='lebar')\n",
    "\n",
    "hewan.gerak()\n",
    "kambing.gerak()\n",
    "hiu.gerak()\n"
   ]
  },
  {
   "cell_type": "markdown",
   "metadata": {},
   "source": [
    "# Pendekatan Prosedural vs OOP"
   ]
  },
  {
   "cell_type": "code",
   "execution_count": null,
   "metadata": {
    "cell_style": "split",
    "colab": {},
    "colab_type": "code",
    "id": "B0e6TwquJelT"
   },
   "outputs": [],
   "source": [
    "stack = []\n",
    "\n",
    "def push(val):\n",
    "    stack.append(val)\n",
    "\n",
    "\n",
    "def pop():\n",
    "    val = stack[-1]\n",
    "    del stack[-1]\n",
    "    return val\n",
    "\n",
    "push(3)\n",
    "push(2)\n",
    "push(1)\n",
    "\n",
    "print(pop())\n",
    "print(pop())\n",
    "print(pop())"
   ]
  },
  {
   "cell_type": "code",
   "execution_count": null,
   "metadata": {
    "cell_style": "split",
    "colab": {},
    "colab_type": "code",
    "id": "hxevKJydJelW"
   },
   "outputs": [],
   "source": [
    "class Stack:\n",
    "    def __init__(self):\n",
    "        self.stackList = []\n",
    "\n",
    "stackObject = Stack()\n",
    "print(len(stackObject.stackList))\n"
   ]
  },
  {
   "cell_type": "markdown",
   "metadata": {
    "colab_type": "text",
    "id": "Y2P7fZUyJelS"
   },
   "source": [
    "## Enkapsulasi\n",
    "\n",
    "Menyembunyikan atribut dan behavior yang bersifat private dari kelas lainnya.\n",
    "Enkapsulasi di python sangat sederhana, menyembunyikan atribut (tidak sepenuhnya) yaitu dengan menggunakan `__` (dua garis bawah) di awal penamaan atribut.\n",
    "\n",
    "> Di bahasa pemrograman yang lain mungkin anda akan menemukan hal yang lebih kompleks, cth: `public`,`virtual`, `private`, `protected`.\n",
    "\n"
   ]
  },
  {
   "cell_type": "code",
   "execution_count": null,
   "metadata": {
    "cell_style": "split",
    "colab": {},
    "colab_type": "code",
    "id": "N0IggmFVJela"
   },
   "outputs": [],
   "source": [
    "class Stack:\n",
    "    def __init__(self):\n",
    "        self.__stackList = [] # __ membuat private\n",
    "\n",
    "stackObject = Stack()\n",
    "print(len(stackObject.__stackList))"
   ]
  },
  {
   "cell_type": "code",
   "execution_count": null,
   "metadata": {
    "cell_style": "split",
    "colab": {},
    "colab_type": "code",
    "id": "_2AIqa50Jele"
   },
   "outputs": [],
   "source": [
    "class Stack:\n",
    "    def __init__(self):\n",
    "        self.__stackList = []\n",
    "\n",
    "    def push(self, val):\n",
    "        self.__stackList.append(val)\n",
    "\n",
    "    def pop(self):\n",
    "        val = self.__stackList[-1]\n",
    "        del self.__stackList[-1]\n",
    "        return val\n",
    "\n",
    "littleStack = Stack()\n",
    "anotherStack = Stack()\n",
    "funnyStack = Stack()\n",
    "\n",
    "littleStack.push(1)\n",
    "anotherStack.push(littleStack.pop() + 1)\n",
    "funnyStack.push(anotherStack.pop() - 2)\n",
    "\n",
    "print(funnyStack.pop()) "
   ]
  },
  {
   "cell_type": "code",
   "execution_count": null,
   "metadata": {
    "cell_style": "split",
    "colab": {},
    "colab_type": "code",
    "id": "XrDxE2ZeJelh"
   },
   "outputs": [],
   "source": [
    "class AddingStack(Stack):\n",
    "    def __init__(self):\n",
    "        Stack.__init__(self)\n",
    "        self.__sum = 0\n",
    "\n",
    "    def getSum(self):\n",
    "        return self.__sum\n",
    "\n",
    "    def push(self, val):\n",
    "        self.__sum += val\n",
    "        Stack.push(self, val)\n",
    "\n",
    "    def pop(self):\n",
    "        val = Stack.pop(self)\n",
    "        self.__sum -= val\n",
    "        return val\n",
    "\n",
    "\n",
    "stackObject = AddingStack()\n",
    "\n",
    "for i in range(5):\n",
    "    stackObject.push(i)\n",
    "print(stackObject.getSum())\n",
    "\n",
    "for i in range(5):\n",
    "    print(stackObject.pop())"
   ]
  },
  {
   "cell_type": "markdown",
   "metadata": {
    "cell_style": "split",
    "colab_type": "text",
    "id": "q9ij6A4oJelj"
   },
   "source": [
    "### Properties and method:\n",
    "```python\n",
    "cls.__dict__\n",
    "cls.__name__\n",
    "cls.__module__\n",
    "hasattr(cls,'str')\n",
    "getattr(cls, 'str')\n",
    "setattr(cls,'str')\n",
    "cls is cls\n",
    "issubclass(ClassOne, ClassTwo)\n",
    "isinstance(objectName, ClassName)\n",
    "cls.__str__() \n",
    "```\n"
   ]
  },
  {
   "cell_type": "markdown",
   "metadata": {
    "colab_type": "text",
    "id": "vhc4wBzAJelm"
   },
   "source": [
    "## Multiple Inheritance"
   ]
  },
  {
   "cell_type": "code",
   "execution_count": null,
   "metadata": {
    "colab": {},
    "colab_type": "code",
    "id": "Lz1Hso6hJelm"
   },
   "outputs": [],
   "source": [
    "class Left:\n",
    "    var = \"L\"\n",
    "    varLeft = \"LL\"\n",
    "    def fun(self):\n",
    "        return \"Left\"\n",
    "\n",
    "\n",
    "class Right:\n",
    "    var = \"R\"\n",
    "    varRight = \"RR\"\n",
    "    def fun(self):\n",
    "        return \"Right\"\n",
    "\n",
    "class Sub(Left, Right):\n",
    "    pass\n",
    "\n",
    "obj = Sub()\n",
    "\n",
    "print(obj.var, obj.varLeft, obj.varRight, obj.fun())"
   ]
  },
  {
   "cell_type": "markdown",
   "metadata": {},
   "source": [
    "### issubclass() dan isinstance()"
   ]
  },
  {
   "cell_type": "code",
   "execution_count": null,
   "metadata": {},
   "outputs": [],
   "source": [
    "# issubclass\n",
    "# apakah suatu class adalah turunan/ sub dari class lain?\n",
    "print(issubclass(Sub, Left))\n",
    "\n",
    "print(issubclass(Sub, Right))\n",
    "\n",
    "print(isinstance(obj, Left))\n",
    "\n",
    "print(isinstance(obj, Right))\n",
    "\n",
    "\n"
   ]
  },
  {
   "cell_type": "code",
   "execution_count": null,
   "metadata": {},
   "outputs": [],
   "source": [
    "class SubSub(Sub):\n",
    "    pass\n",
    "\n",
    "obj_SubSub = SubSub()\n",
    "\n",
    "print(issubclass(SubSub, Sub))\n",
    "print(issubclass(SubSub, Right))\n",
    "\n",
    "print(isinstance(obj_SubSub, Right))"
   ]
  },
  {
   "cell_type": "code",
   "execution_count": null,
   "metadata": {},
   "outputs": [],
   "source": [
    "class Vehicle:\n",
    "    pass\n",
    "\n",
    "\n",
    "class LandVehicle(Vehicle):\n",
    "    pass\n",
    "\n",
    "\n",
    "class TrackedVehicle(LandVehicle):\n",
    "    pass\n",
    "\n",
    "\n",
    "for cls1 in [Vehicle, LandVehicle, TrackedVehicle]:\n",
    "    for cls2 in [Vehicle, LandVehicle, TrackedVehicle]:\n",
    "        print(issubclass(cls1, cls2), end=\"\\t\")\n",
    "    print()"
   ]
  },
  {
   "cell_type": "markdown",
   "metadata": {},
   "source": [
    "### is Operator\n",
    "is operator memperlihatkan apakah dua variable (object_one and object_two here) mengacu ke object yang sama."
   ]
  },
  {
   "cell_type": "code",
   "execution_count": null,
   "metadata": {},
   "outputs": [],
   "source": [
    "class SampleClass:\n",
    "    def __init__(self, val):\n",
    "        self.val = val\n",
    "\n",
    "\n",
    "object_1 = SampleClass(0)\n",
    "object_2 = SampleClass(2)\n",
    "object_3 = object_1\n",
    "object_3.val += 1\n",
    "\n",
    "print(object_1 is object_2)\n",
    "print(object_2 is object_3)\n",
    "print(object_3 is object_1)\n",
    "print(object_1.val, object_2.val, object_3.val)\n",
    "\n",
    "string_1 = \"Mary had a little \"\n",
    "string_2 = \"Mary had a little lamb\"\n",
    "string_1 += \"lamb\"\n",
    "\n",
    "print(string_1 == string_2, string_1 is string_2)"
   ]
  },
  {
   "cell_type": "markdown",
   "metadata": {},
   "source": [
    "### MRO & Diamond Problem"
   ]
  },
  {
   "cell_type": "code",
   "execution_count": null,
   "metadata": {},
   "outputs": [],
   "source": [
    "class Top:\n",
    "    def m_top(self):\n",
    "        print(\"top\")\n",
    "\n",
    "\n",
    "class Middle(Top):\n",
    "    def m_middle(self):\n",
    "        print(\"middle\")"
   ]
  },
  {
   "cell_type": "code",
   "execution_count": null,
   "metadata": {},
   "outputs": [],
   "source": [
    "# MRO Problem\n",
    "class Bottom(Top, Middle):\n",
    "    def m_bottom(self):\n",
    "        print(\"bottom\")\n",
    "\n",
    "\n",
    "object = Bottom()\n",
    "object.m_bottom()\n",
    "object.m_middle()\n",
    "object.m_top()"
   ]
  },
  {
   "cell_type": "code",
   "execution_count": null,
   "metadata": {},
   "outputs": [],
   "source": [
    "class Bottom(Middle, Top):\n",
    "    def m_bottom(self):\n",
    "        print(\"bottom\")\n",
    "\n",
    "\n",
    "object = Bottom()\n",
    "object.m_bottom()\n",
    "object.m_middle()\n",
    "object.m_top()"
   ]
  },
  {
   "cell_type": "code",
   "execution_count": null,
   "metadata": {},
   "outputs": [],
   "source": [
    "# Diamond Problem\n",
    "class Top:\n",
    "    def m_top(self):\n",
    "        print(\"top\")\n",
    "\n",
    "\n",
    "class Middle_Left(Top):\n",
    "    def m_middle(self):\n",
    "        print(\"middle_left\")\n",
    "\n",
    "\n",
    "class Middle_Right(Top):\n",
    "    def m_middle(self):\n",
    "        print(\"middle_right\")\n",
    "\n",
    "\n",
    "class Bottom(Middle_Left, Middle_Right):\n",
    "    def m_bottom(self):\n",
    "        print(\"bottom\")\n",
    "\n",
    "\n",
    "object = Bottom()\n",
    "object.m_bottom()\n",
    "object.m_middle()\n",
    "object.m_top()"
   ]
  },
  {
   "cell_type": "markdown",
   "metadata": {
    "colab_type": "text",
    "id": "plh19QJ3Jelo"
   },
   "source": [
    "### Exception"
   ]
  },
  {
   "cell_type": "code",
   "execution_count": null,
   "metadata": {
    "cell_style": "split",
    "colab": {},
    "colab_type": "code",
    "id": "fNu-nWx4Jelp"
   },
   "outputs": [],
   "source": [
    "def reciprocal(n):\n",
    "    try:\n",
    "        n = 1 / n\n",
    "    except ZeroDivisionError:\n",
    "        print(\"Division failed\")\n",
    "        n = None\n",
    "    else:\n",
    "        print(\"Everything went fine\")\n",
    "    finally:\n",
    "        print(\"It's time to say goodbye\")\n",
    "        return n\n",
    "\n",
    "print(reciprocal(2))\n",
    "print(reciprocal(0))"
   ]
  },
  {
   "cell_type": "code",
   "execution_count": null,
   "metadata": {
    "cell_style": "split",
    "colab": {},
    "colab_type": "code",
    "id": "XgkMMSnpJelr"
   },
   "outputs": [],
   "source": [
    "try:\n",
    "    i = int(\"Hello!\")\n",
    "except Exception as e:\n",
    "    print(e)\n",
    "    print(e.__str__())"
   ]
  },
  {
   "cell_type": "code",
   "execution_count": null,
   "metadata": {
    "colab": {},
    "colab_type": "code",
    "id": "_mJWYItaJelt"
   },
   "outputs": [],
   "source": [
    "def printExcTree(thisclass, nest = 0):\n",
    "    if nest > 1:\n",
    "        print(\"   |\" * (nest - 1), end=\"\")\n",
    "    if nest > 0:\n",
    "        print(\"   +---\", end=\"\")\n",
    "\n",
    "    print(thisclass.__name__)\n",
    "\n",
    "    for subclass in thisclass.__subclasses__():\n",
    "        printExcTree(subclass, nest + 1)\n",
    "\n",
    "printExcTree(BaseException)"
   ]
  },
  {
   "cell_type": "code",
   "execution_count": null,
   "metadata": {
    "colab": {},
    "colab_type": "code",
    "id": "ix4CfK2AJelv"
   },
   "outputs": [],
   "source": [
    "try:\n",
    "\traise Exception(\"my exception\")\n",
    "except Exception as e:\n",
    "\tprint(e, e.__str__(), sep=' : ', end=' : ')\n",
    "\tprint(e.args)\n",
    " "
   ]
  }
 ],
 "metadata": {
  "celltoolbar": "Slideshow",
  "colab": {
   "include_colab_link": true,
   "name": "Python OOP .ipynb",
   "provenance": [],
   "toc_visible": true
  },
  "kernelspec": {
   "display_name": "Python 3",
   "language": "python",
   "name": "python3"
  },
  "language_info": {
   "codemirror_mode": {
    "name": "ipython",
    "version": 3
   },
   "file_extension": ".py",
   "mimetype": "text/x-python",
   "name": "python",
   "nbconvert_exporter": "python",
   "pygments_lexer": "ipython3",
   "version": "3.8.3"
  },
  "rise": {
   "auto_select": "none",
   "auto_select_fragment": false,
   "scroll": true,
   "theme": "serif",
   "width": "90%"
  }
 },
 "nbformat": 4,
 "nbformat_minor": 1
}
