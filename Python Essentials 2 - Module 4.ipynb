{
 "metadata": {
  "language_info": {
   "codemirror_mode": {
    "name": "ipython",
    "version": 3
   },
   "file_extension": ".py",
   "mimetype": "text/x-python",
   "name": "python",
   "nbconvert_exporter": "python",
   "pygments_lexer": "ipython3",
   "version": "3.8.2-final"
  },
  "orig_nbformat": 2,
  "kernelspec": {
   "name": "python3",
   "display_name": "Python 3.8.2 64-bit",
   "metadata": {
    "interpreter": {
     "hash": "965ba1120b0c101b3f715b6e258a73742ec1cf86f2c8b04492724c87d9f112c3"
    }
   }
  }
 },
 "nbformat": 4,
 "nbformat_minor": 2,
 "cells": [
  {
   "source": [
    "# <center> Miscellaneous </center>\n",
    "\n",
    "## OA-DTS Python 2021\n",
    "##### oleh:\n",
    "- Dr. Syukron Abu Ishaq Alfarozi\n",
    "- Wisang Jati Anggoro, S.T.\n",
    "##### referensi:\n",
    "- Netacad\n"
   ],
   "cell_type": "markdown",
   "metadata": {}
  },
  {
   "source": [
    "## Materi Modul\n",
    "\n",
    "- Generators, iterators and closures\n",
    "- Working with file-system, directory tree and files\n",
    "- Selected Python Standard Library modules (os, datetime, time, and calendar.)\n",
    "\n"
   ],
   "cell_type": "markdown",
   "metadata": {}
  },
  {
   "source": [
    "## Generator"
   ],
   "cell_type": "markdown",
   "metadata": {}
  },
  {
   "cell_type": "code",
   "execution_count": null,
   "metadata": {},
   "outputs": [],
   "source": [
    "class Fib:\n",
    "\tdef __init__(self, nn):\n",
    "\t\tself.__n = nn\n",
    "\t\tself.__i = 0\n",
    "\t\tself.__p1 = self.__p2 = 1\n",
    "\n",
    "\tdef __iter__(self):\n",
    "\t\tprint(\"Fib iter\")\n",
    "\t\treturn self\n",
    "\n",
    "\tdef __next__(self):\n",
    "\t\tself.__i += 1\n",
    "\t\tif self.__i > self.__n:\n",
    "\t\t\traise StopIteration\n",
    "\t\tif self.__i in [1, 2]:\n",
    "\t\t\treturn 1\n",
    "\t\tret = self.__p1 + self.__p2\n",
    "\t\tself.__p1, self.__p2 = self.__p2, ret\n",
    "\t\treturn ret"
   ]
  },
  {
   "cell_type": "code",
   "execution_count": null,
   "metadata": {},
   "outputs": [],
   "source": [
    "for i in Fib(10):\n",
    "\tprint(i)\n",
    "    "
   ]
  },
  {
   "cell_type": "code",
   "execution_count": null,
   "metadata": {},
   "outputs": [],
   "source": [
    "# Yield\n",
    "\n",
    "def fun(n):\n",
    "    for i in range(n):\n",
    "        yield i\n",
    "\n",
    "# Lambda\n",
    "# lambda parameters : expression\n",
    "\n",
    "two = lambda : 2\n",
    "sqr = lambda x : x * x\n",
    "pwr = lambda x, y : x ** y\n"
   ]
  },
  {
   "cell_type": "code",
   "execution_count": null,
   "metadata": {},
   "outputs": [],
   "source": [
    "for i in fun(5):\n",
    "    print(i)\n",
    "\n",
    "for a in range(-2, 3):\n",
    "    print(sqr(a), end=\" \")\n",
    "    print(pwr(a, two()))"
   ]
  },
  {
   "cell_type": "code",
   "execution_count": null,
   "metadata": {},
   "outputs": [],
   "source": [
    "# Map and filter\n",
    "\n",
    "from random import seed, randint\n",
    "\n",
    "#map\n",
    "list1 = [x for x in range(5)]\n",
    "list2 = list(map(lambda x: 2 ** x, list1))\n",
    "\n",
    "#filter\n",
    "seed(0)\n",
    "data = [ randint(-10,10) for x in range(5) ]\n",
    "filtered = list(filter(lambda x: x > 0 and x % 2 == 0, data))\n"
   ]
  },
  {
   "cell_type": "code",
   "execution_count": null,
   "metadata": {},
   "outputs": [],
   "source": [
    "print(list1)\n",
    "print(list2)\n",
    "print(data)\n",
    "print(filtered)"
   ]
  },
  {
   "source": [
    "## Closure\n",
    "Let's start with a definition: closure is a technique which allows the storing of values in spite of the fact that the context in which they have been created does not exist anymore. "
   ],
   "cell_type": "markdown",
   "metadata": {}
  },
  {
   "cell_type": "code",
   "execution_count": null,
   "metadata": {},
   "outputs": [],
   "source": [
    "def outer(par):\n",
    "\tloc = par\n",
    "\tdef inner():\n",
    "\t\treturn loc\n",
    "\treturn inner\n",
    "\n",
    "var = 1\n",
    "fun = outer(var)\n",
    "print(fun())"
   ]
  },
  {
   "source": [
    "## Partial functional tools"
   ],
   "cell_type": "markdown",
   "metadata": {}
  },
  {
   "cell_type": "code",
   "execution_count": null,
   "metadata": {},
   "outputs": [],
   "source": [
    "from functools import partial \n",
    "\n",
    "# A normal function \n",
    "def f(a, b, c, x): \n",
    "    return 1000*a + 100*b + 10*c + x \n",
    "  \n",
    "# A partial function that calls f with \n",
    "# a as 3, b as 1 and c as 4. \n",
    "g = partial(f, 3, 1, 4) \n",
    "  \n",
    "# Calling g() \n",
    "print(g(5)) "
   ]
  },
  {
   "source": [
    "## Working with files\n",
    "\n",
    "file mode:\n",
    "\n",
    "\n",
    "\n",
    "|Text mode |\tBinary mode |\tDescription|\n",
    "|-----------|-----------------|-------------|\n",
    "|rt|\trb|\tread|\n",
    "|wt|\twb|\twrite|\n",
    "|at\t|ab\t|append|\n",
    "|r+t|\tr+b|\tread and update|\n",
    "|w+t\t|w+b|\twrite and update|"
   ],
   "cell_type": "markdown",
   "metadata": {}
  },
  {
   "source": [
    "### File Methods\n",
    "* Read methods\n",
    "\n",
    "```python\n",
    "stream.read(idx)\n",
    "stream.readline()\n",
    "stream.readlines(n) #multiple lines\n",
    "\n",
    "```\n",
    "\n",
    "* write methods\n",
    "\n",
    "```python\n",
    "stream.write(str)\n",
    "```"
   ],
   "cell_type": "markdown",
   "metadata": {}
  },
  {
   "cell_type": "code",
   "execution_count": null,
   "metadata": {},
   "outputs": [],
   "source": [
    "!wget  https://raw.githubusercontent.com/sykrn/py-dts/master/asets/cth.txt"
   ]
  },
  {
   "cell_type": "code",
   "execution_count": null,
   "metadata": {},
   "outputs": [],
   "source": [
    "stream = open(\"cth.txt\", \"rt\", encoding = \"utf-8\") # opening tzop.txt in read mode, returning it as a file object\n",
    "print(stream.read())\n",
    "stream.close()"
   ]
  },
  {
   "cell_type": "code",
   "execution_count": null,
   "metadata": {},
   "outputs": [],
   "source": [
    "# Read\n",
    "from os import strerror\n",
    "\n",
    "try:\n",
    "    cnt = 0\n",
    "    s = open('cth.txt', \"rt\")\n",
    "    ch = s.read(1)\n",
    "    while ch != '':\n",
    "        print(ch, end='')\n",
    "        cnt += 1\n",
    "        ch = s.read(1)\n",
    "    s.close()\n",
    "    print(\"\\n\\nCharacters in file:\", cnt)\n",
    "except IOError as e:\n",
    "    print(\"I/O error occurred: \", strerr(e.errno))"
   ]
  },
  {
   "cell_type": "code",
   "execution_count": null,
   "metadata": {},
   "outputs": [],
   "source": [
    "#Write\n",
    "from os import strerror\n",
    "\n",
    "try:\n",
    "\tfo = open('newtext.txt', 'wt')\n",
    "\tfor i in range(10):\n",
    "\t\tfo.write(\"line #\" + str(i+1) + \"\\n\")\n",
    "\tfo.close()\n",
    "except IOError as e:\n",
    "\tprint(\"I/O error occurred: \", strerr(e.errno))"
   ]
  },
  {
   "source": [
    "### bytesarray"
   ],
   "cell_type": "markdown",
   "metadata": {}
  },
  {
   "cell_type": "code",
   "execution_count": null,
   "metadata": {},
   "outputs": [],
   "source": [
    "data = bytearray(10)\n",
    "\n",
    "for i in range(len(data)):\n",
    "    data[i] = 10 - i\n",
    "\n",
    "for b in data:\n",
    "    print(hex(b))"
   ]
  },
  {
   "cell_type": "code",
   "execution_count": null,
   "metadata": {},
   "outputs": [],
   "source": [
    "# write\n",
    "from os import strerror\n",
    "\n",
    "data = bytearray(10)\n",
    "\n",
    "for i in range(len(data)):\n",
    "    data[i] = 10 + i\n",
    "\n",
    "try:\n",
    "    bf = open('file.bin', 'wb')\n",
    "    bf.write(data)\n",
    "    bf.close()\n",
    "except IOError as e:\n",
    "    print(\"I/O error occurred:\", strerr(e.errno))\n"
   ]
  },
  {
   "cell_type": "code",
   "execution_count": null,
   "metadata": {},
   "outputs": [],
   "source": [
    "#read and write / copy paste script\n",
    "from os import strerror\n",
    "\n",
    "srcname = input(\"Source file name?: \")\n",
    "try:\n",
    "    src = open(srcname, 'rb')\n",
    "except IOError as e:\n",
    "    print(\"Cannot open source file: \", strerror(e.errno))\n",
    "    exit(e.errno)\t\n",
    "dstname = input(\"Destination file name?: \")\n",
    "try:\n",
    "    dst = open(dstname, 'wb')\n",
    "except Exception as e:\n",
    "    print(\"Cannot create destination file: \", strerr(e.errno))\n",
    "    src.close()\n",
    "    exit(e.errno)\t\n",
    "\n",
    "buffer = bytearray(65536)\n",
    "total  = 0\n",
    "try:\n",
    "    readin = src.readinto(buffer)\n",
    "    while readin > 0:\n",
    "        written = dst.write(buffer[:readin])\n",
    "        total += written\n",
    "        readin = src.readinto(buffer)\n",
    "except IOError as e:\n",
    "    print(\"Cannot create destination file: \", strerr(e.errno))\n",
    "    exit(e.errno)\t\n",
    "    \n",
    "print(total,'byte(s) succesfully written')\n",
    "src.close()\n",
    "dst.close()"
   ]
  },
  {
   "source": [
    "## More about <code>os</code>"
   ],
   "cell_type": "markdown",
   "metadata": {}
  },
  {
   "cell_type": "code",
   "execution_count": null,
   "metadata": {},
   "outputs": [],
   "source": [
    "import os\n",
    "print(os.name)"
   ]
  },
  {
   "cell_type": "code",
   "execution_count": null,
   "metadata": {},
   "outputs": [],
   "source": [
    "# mkdir\n",
    "os.makedirs(\"my_first_directory/my_second_directory\")\n",
    "os.chdir(\"my_first_directory\")\n",
    "print(os.listdir())"
   ]
  },
  {
   "cell_type": "code",
   "execution_count": null,
   "metadata": {},
   "outputs": [],
   "source": [
    "# where am I now?\n",
    "os.makedirs(\"my_first_directory/my_second_directory\")\n",
    "os.chdir(\"my_first_directory\")\n",
    "print(os.getcwd())\n",
    "os.chdir(\"my_second_directory\")\n",
    "print(os.getcwd())"
   ]
  },
  {
   "cell_type": "code",
   "execution_count": null,
   "metadata": {},
   "outputs": [],
   "source": [
    "# rmdir\n",
    "os.mkdir(\"my_first_directory\")\n",
    "print(os.listdir())\n",
    "os.rmdir(\"my_first_directory\")\n",
    "print(os.listdir())"
   ]
  },
  {
   "cell_type": "code",
   "execution_count": null,
   "metadata": {},
   "outputs": [],
   "source": [
    "returned_value = os.system(\"mkdir my_first_directory\")\n",
    "print(returned_value)"
   ]
  },
  {
   "source": [
    "## <code>datetime</code> and <code>time</code> Module"
   ],
   "cell_type": "markdown",
   "metadata": {}
  },
  {
   "cell_type": "code",
   "execution_count": null,
   "metadata": {},
   "outputs": [],
   "source": [
    "from datetime import date, time as dtime, datetime\n",
    "import time"
   ]
  },
  {
   "cell_type": "code",
   "execution_count": null,
   "metadata": {},
   "outputs": [],
   "source": [
    "today = date.today()\n",
    "\n",
    "print(\"Today:\", today)\n",
    "print(\"Year:\", today.year)\n",
    "print(\"Month:\", today.month)\n",
    "print(\"Day:\", today.day)"
   ]
  },
  {
   "cell_type": "code",
   "execution_count": null,
   "metadata": {},
   "outputs": [],
   "source": [
    "timestamp = time.time()\n",
    "print(\"Timestamp:\", timestamp)\n",
    "\n",
    "d = date.fromtimestamp(timestamp)\n",
    "print(\"Date:\", d)\n"
   ]
  },
  {
   "cell_type": "code",
   "execution_count": null,
   "metadata": {},
   "outputs": [],
   "source": [
    "# ISO format\n",
    "\n",
    "d = date.fromisoformat('2019-11-04')\n",
    "print(d)\n"
   ]
  },
  {
   "cell_type": "code",
   "execution_count": null,
   "metadata": {},
   "outputs": [],
   "source": [
    "# Replace Method\n",
    "\n",
    "d = date(1991, 2, 5)\n",
    "print(d)\n",
    "\n",
    "d = d.replace(year=1992, month=1, day=16)\n",
    "print(d)\n"
   ]
  },
  {
   "cell_type": "code",
   "execution_count": null,
   "metadata": {},
   "outputs": [],
   "source": [
    "\n",
    "d = date(2019, 11, 4)\n",
    "print(d.weekday())"
   ]
  },
  {
   "cell_type": "code",
   "execution_count": null,
   "metadata": {},
   "outputs": [],
   "source": [
    "# Creating time object\n",
    "t = dtime(14, 53, 20, 1)\n",
    "\n",
    "print(\"Time:\", t)\n",
    "print(\"Hour:\", t.hour)\n",
    "print(\"Minute:\", t.minute)\n",
    "print(\"Second:\", t.second)\n",
    "print(\"Microsecond:\", t.microsecond)\n"
   ]
  },
  {
   "cell_type": "code",
   "execution_count": null,
   "metadata": {},
   "outputs": [],
   "source": [
    "# Time Module\n",
    "class Student:\n",
    "    def take_nap(self, seconds):\n",
    "        print(\"I'm very tired. I have to take a nap. See you later.\")\n",
    "        time.sleep(seconds)\n",
    "        print(\"I slept well! I feel great!\")\n",
    "\n",
    "student = Student()\n",
    "student.take_nap(5)\n"
   ]
  },
  {
   "cell_type": "code",
   "execution_count": null,
   "metadata": {},
   "outputs": [],
   "source": [
    "# ctime() function\n",
    "\n",
    "timestamp = 1572879180\n",
    "print(time.ctime(timestamp))"
   ]
  },
  {
   "cell_type": "code",
   "execution_count": null,
   "metadata": {},
   "outputs": [],
   "source": [
    "# gmtime() and localtime()\n",
    "\n",
    "timestamp = 1572879180\n",
    "print(time.gmtime(timestamp))\n",
    "print(time.localtime(timestamp))\n"
   ]
  },
  {
   "cell_type": "code",
   "execution_count": null,
   "metadata": {},
   "outputs": [],
   "source": [
    "# asctime() and mktime()\n",
    "\n",
    "timestamp = 1572879180\n",
    "st = time.gmtime(timestamp)\n",
    "\n",
    "print(time.asctime(st))\n",
    "print(time.mktime((2019, 11, 4, 14, 53, 0, 0, 308, 0)))\n"
   ]
  },
  {
   "cell_type": "code",
   "execution_count": null,
   "metadata": {},
   "outputs": [],
   "source": [
    "# Creating datetime objects\n",
    "\n",
    "dt = datetime(2019, 11, 4, 14, 53)\n",
    "\n",
    "print(\"Datetime:\", dt)\n",
    "print(\"Date:\", dt.date())\n",
    "print(\"Time:\", dt.time())"
   ]
  },
  {
   "cell_type": "code",
   "execution_count": null,
   "metadata": {},
   "outputs": [],
   "source": [
    "# Methods that return the current date and time\n",
    "\n",
    "print(\"today:\", datetime.today())\n",
    "print(\"now:\", datetime.now())\n",
    "print(\"utcnow:\", datetime.utcnow())"
   ]
  },
  {
   "cell_type": "code",
   "execution_count": null,
   "metadata": {},
   "outputs": [],
   "source": [
    "# Getting a timestamp\n",
    "\n",
    "dt = datetime(2020, 10, 4, 14, 55)\n",
    "print(\"Timestamp:\", dt.timestamp())\n"
   ]
  },
  {
   "cell_type": "code",
   "execution_count": null,
   "metadata": {},
   "outputs": [],
   "source": [
    "# datetime formatting\n",
    "d = date(2020, 1, 4)\n",
    "print(d.strftime('%Y/%m/%d'))\n",
    "\n",
    "t = dtime(14, 53)\n",
    "print(t.strftime(\"%H:%M:%S\"))\n",
    "\n",
    "dt = datetime(2020, 11, 4, 14, 53)\n",
    "print(dt.strftime(\"%y/%B/%d %H:%M:%S\"))\n"
   ]
  },
  {
   "cell_type": "code",
   "execution_count": null,
   "metadata": {},
   "outputs": [],
   "source": [
    "#strftime() function\n",
    "\n",
    "timestamp = 1572879180\n",
    "st = time.gmtime(timestamp)\n",
    "\n",
    "print(time.strftime(\"%Y/%m/%d %H:%M:%S\", st))\n",
    "print(time.strftime(\"%Y/%m/%d %H:%M:%S\"))"
   ]
  },
  {
   "cell_type": "code",
   "execution_count": null,
   "metadata": {},
   "outputs": [],
   "source": [
    "# The strptime() method\n",
    "from datetime import datetime\n",
    "print(datetime.strptime(\"2019/11/04 14:53:00\", \"%Y/%m/%d %H:%M:%S\"))\n"
   ]
  },
  {
   "cell_type": "code",
   "execution_count": null,
   "metadata": {},
   "outputs": [],
   "source": [
    "# Date and time operations\n",
    "\n",
    "d1 = date(2020, 11, 4)\n",
    "d2 = date(2019, 11, 4)\n",
    "\n",
    "print(d1 - d2)\n",
    "\n",
    "dt1 = datetime(2020, 11, 4, 0, 0, 0)\n",
    "dt2 = datetime(2019, 11, 4, 14, 53, 0)\n",
    "\n",
    "print(dt1 - dt2)"
   ]
  },
  {
   "cell_type": "code",
   "execution_count": null,
   "metadata": {},
   "outputs": [],
   "source": [
    "# Creating timedelta objects\n",
    "\n",
    "from datetime import timedelta\n",
    "\n",
    "delta = timedelta(weeks=2, days=2, hours=3)\n",
    "print(delta)"
   ]
  },
  {
   "cell_type": "code",
   "execution_count": null,
   "metadata": {},
   "outputs": [],
   "source": [
    "delta = timedelta(weeks=2, days=2, hours=2)\n",
    "print(delta)\n",
    "\n",
    "delta2 = delta * 2\n",
    "print(delta2)\n",
    "\n",
    "d = date(2019, 10, 4) + delta2\n",
    "print(d)\n",
    "\n",
    "dt = datetime(2019, 10, 4, 14, 53) + delta2\n",
    "print(dt)"
   ]
  },
  {
   "source": [
    "## <code>calendar</code> module"
   ],
   "cell_type": "markdown",
   "metadata": {}
  },
  {
   "cell_type": "code",
   "execution_count": null,
   "metadata": {},
   "outputs": [],
   "source": [
    "import calendar"
   ]
  },
  {
   "cell_type": "code",
   "execution_count": null,
   "metadata": {},
   "outputs": [],
   "source": [
    "print(calendar.calendar(2020))"
   ]
  },
  {
   "cell_type": "code",
   "execution_count": null,
   "metadata": {},
   "outputs": [],
   "source": [
    "print(calendar.month(2020, 11))"
   ]
  },
  {
   "cell_type": "code",
   "execution_count": null,
   "metadata": {},
   "outputs": [],
   "source": [
    "# setfirstweekday function\n",
    "\n",
    "calendar.setfirstweekday(calendar.SUNDAY)\n",
    "calendar.prmonth(2020, 12)"
   ]
  },
  {
   "cell_type": "code",
   "execution_count": null,
   "metadata": {},
   "outputs": [],
   "source": [
    "# The weekday() function\n",
    "\n",
    "print(calendar.weekday(2020, 12, 24))"
   ]
  },
  {
   "cell_type": "code",
   "execution_count": null,
   "metadata": {},
   "outputs": [],
   "source": [
    "# The weekheader function\n",
    "\n",
    "print(calendar.weekheader(2))\n",
    "print(calendar.weekheader(3))"
   ]
  },
  {
   "cell_type": "code",
   "execution_count": null,
   "metadata": {},
   "outputs": [],
   "source": [
    "print(calendar.isleap(2020))\n",
    "print(calendar.leapdays(2010, 2021))  # Up to but not including 2021.\n",
    "\n",
    "#leapday = 29 Feb (pada tahun kabisat)"
   ]
  },
  {
   "cell_type": "code",
   "execution_count": null,
   "metadata": {},
   "outputs": [],
   "source": [
    "# Creating calendar object\n",
    "\n",
    "c = calendar.Calendar(calendar.SUNDAY)\n",
    "\n",
    "for weekday in c.iterweekdays():\n",
    "    print(weekday, end=\" \")"
   ]
  },
  {
   "cell_type": "code",
   "execution_count": null,
   "metadata": {},
   "outputs": [],
   "source": [
    "c = calendar.Calendar()\n",
    "\n",
    "for date in c.itermonthdates(2019, 11):\n",
    "    print(date, end=\" \")\n"
   ]
  },
  {
   "cell_type": "code",
   "execution_count": null,
   "metadata": {},
   "outputs": [],
   "source": [
    "c = calendar.Calendar()\n",
    "\n",
    "for iter in c.itermonthdays(2019, 11):\n",
    "    print(iter, end=\" \")"
   ]
  },
  {
   "cell_type": "code",
   "execution_count": null,
   "metadata": {},
   "outputs": [],
   "source": [
    "# The monthdays2calendar() method\n",
    "\n",
    "c = calendar.Calendar()\n",
    "\n",
    "for data in c.monthdays2calendar(2020, 12):\n",
    "    print(data)\n"
   ]
  }
 ]
}