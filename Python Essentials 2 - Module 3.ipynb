{
  "nbformat": 4,
  "nbformat_minor": 0,
  "metadata": {
    "celltoolbar": "Slideshow",
    "kernelspec": {
      "name": "python3",
      "display_name": "Python 3.8.2 64-bit",
      "metadata": {
        "interpreter": {
          "hash": "965ba1120b0c101b3f715b6e258a73742ec1cf86f2c8b04492724c87d9f112c3"
        }
      }
    },
    "language_info": {
      "codemirror_mode": {
        "name": "ipython",
        "version": 3
      },
      "file_extension": ".py",
      "mimetype": "text/x-python",
      "name": "python",
      "nbconvert_exporter": "python",
      "pygments_lexer": "ipython3",
      "version": "3.8.2-final"
    },
    "rise": {
      "auto_select": "none",
      "auto_select_fragment": false,
      "scroll": true,
      "theme": "serif",
      "width": "90%"
    },
    "colab": {
      "name": "Python OOP .ipynb",
      "provenance": [],
      "toc_visible": true,
      "include_colab_link": true
    }
  },
  "cells": [
    {
      "cell_type": "markdown",
      "metadata": {
        "id": "view-in-github",
        "colab_type": "text"
      },
      "source": [
        "<a href=\"https://colab.research.google.com/github/sykrn/py-dts/blob/master/Modul_6_OOP_and_file_operation.ipynb\" target=\"_parent\"><img src=\"https://colab.research.google.com/assets/colab-badge.svg\" alt=\"Open In Colab\"/></a>"
      ]
    },
    {
      "cell_type": "markdown",
      "metadata": {
        "id": "v1glAk2VJek9",
        "colab_type": "text"
      },
      "source": [
        "# <center> Pemrograman Berbasis Obyek </center>\n",
        "\n",
        "## OA-DTS Python 2021\n",
        "##### oleh:\n",
        "- Dr. Syukron Abu Ishaq Alfarozi\n",
        "- Wisang Jati Anggoro, S.T.\n",
        "\n",
        "##### referensi:\n",
        "- Netacad\n"
      ]
    },
    {
      "source": [
        "## Materi Modul\n",
        "\n",
        "- Basic concepts of object-oriented programming (OOP)\n",
        "- The differences between the procedural and object approaches (motivations and profits)\n",
        "- Classes, objects, properties, and methods;\n",
        "- Designing reusable classes and creating objects;\n",
        "- Inheritance and polymorphism;\n",
        "- Exceptions as objects.\n"
      ],
      "cell_type": "markdown",
      "metadata": {}
    },
    {
      "cell_type": "markdown",
      "metadata": {
        "id": "8b2SFmZUJek_",
        "colab_type": "text"
      },
      "source": [
        "# Pemrograman Berbasis Obyek (PBO) a.k.a. OOP\n",
        "\n",
        "Konsep dari OOP dalam python ini berfokus dalam pembuatan kode yang reusable (dapat digunakan kembali). Konsep ini juga dikenal dengan DRY (Don't Repeat Yourself).\n",
        "\n",
        "Dalam python, konsep OOP memiliki beberapa prinsip dasar:\n",
        "\n",
        "| Sifat   | Deskripsi   |\n",
        "|---------------|---------------------------------------------------------------------------------|\n",
        "| Inheritance   | Proses dalam menggunakan atribut dan behaviour dari class yang telah ada sebelumnya.   |\n",
        "| Encapsulation* | Menyembunyikan atribut dan behavior yang bersifat private dari kelas lainnya.                  |\n",
        "| Polymorphism*  | Sebuah konsep untuk menggunakan operasi yang sama dengan cara yang berbeda pada kelas lain. |\n",
        "\n",
        "Konsep ini akan terlihat lebih mudah dalam prakteknya nanti"
      ]
    },
    {
      "cell_type": "markdown",
      "metadata": {
        "id": "ZbSOm3mhJelB",
        "colab_type": "text"
      },
      "source": [
        "## Function vs Method\n",
        "\n",
        "* Fungsi : Sebuah prosedur untuk mengolah masukan menjadi keluaran.\n",
        "* Method : Sebuah fungsi yang menempel di suatu Object yang bisa (tidak harus) merubah object tersebut.\n",
        "\n",
        "### Coba perhatikan contoh di bawah ini:\n",
        "<!-- Contoh buidin method pada python list -->"
      ]
    },
    {
      "cell_type": "code",
      "metadata": {
        "id": "WXJXNTWkJelC",
        "colab_type": "code",
        "colab": {}
      },
      "source": [
        "ls = [3,2,1,4,5,7,8,0]\n",
        "print('ls terurut\\t:',sorted(ls))\n",
        "print('ls tidak urut\\t:', ls)\n",
        "\n",
        "ls2 = [3,2,1,4,5,7,8,0]\n",
        "ls2.sort()\n",
        "print('ls2 terutut\\t:',ls2)"
      ],
      "execution_count": 0,
      "outputs": []
    },
    {
      "cell_type": "markdown",
      "metadata": {
        "id": "Re058XbIJelH",
        "colab_type": "text"
      },
      "source": [
        "## Class and Inheritance\n",
        "\n",
        "Class adalah sebuah blueprint/konsep dari suatu objek.\n",
        "![class1.JPG](https://github.com/sykrn/py-dts/blob/master/class1.JPG?raw=1)\n"
      ]
    },
    {
      "cell_type": "markdown",
      "metadata": {
        "cell_style": "split",
        "id": "q6LFiqjqJelJ",
        "colab_type": "text"
      },
      "source": [
        "### Inheritance (Pewarisan sifat)\n",
        "\n",
        "* `superclass/Parent` lebih bersifat umum dari pada `subclass`.\n",
        "* `subclass` mewarisi sifat dari `superclass/Parent` \n",
        "\n",
        "![class2.JPG](https://github.com/sykrn/py-dts/blob/master/class2.JPG?raw=1)"
      ]
    },
    {
      "cell_type": "markdown",
      "metadata": {
        "cell_style": "split",
        "id": "fu9rAwT-JelK",
        "colab_type": "text"
      },
      "source": [
        "<br/>\n",
        "<br/>\n",
        "<br/>\n",
        "\n",
        "\n",
        "![inheritance.JPG](https://github.com/sykrn/py-dts/blob/master/inheritance.JPG?raw=1)"
      ]
    },
    {
      "cell_type": "code",
      "metadata": {
        "cell_style": "split",
        "id": "5gmFkM38JelL",
        "colab_type": "code",
        "colab": {}
      },
      "source": [
        "# Contoh pendifinisian class\n",
        "\n",
        "class Hewan:\n",
        "    def __init__(self,nama):\n",
        "        self.nama = nama\n",
        "    def gerak(self):\n",
        "        print('gerak-gerak!!!')\n",
        "\n",
        "class HewanDarat(Hewan):\n",
        "    def __init__(self,nama,kaki=0):\n",
        "        super().__init__(nama)     # Inheritence\n",
        "        self.kaki = kaki         # properti/sifat baru\n",
        "        \n",
        "    def gerak(self):             # Polymorphism\n",
        "        print(self.nama,'gerak di darat dengan kaki',self.kaki)\n",
        "\n",
        "class HewanAir(Hewan):\n",
        "    def __init__(self,nama,sirip='kecil'):\n",
        "        super().__init__(nama)     # Inheritence\n",
        "        self.sirip = sirip       # properti/sifat baru\n",
        "        \n",
        "    def gerak(self):             # Polymorphism\n",
        "        print(self.nama,'gerak di air dengan sirip', self.sirip)\n",
        "\n"
      ],
      "execution_count": 0,
      "outputs": []
    },
    {
      "cell_type": "code",
      "metadata": {
        "cell_style": "split",
        "id": "9NembN9UJelP",
        "colab_type": "code",
        "colab": {}
      },
      "source": [
        "hewan = Hewan('pokoknya hewan')\n",
        "kambing = HewanDarat('kambing',kaki=4)\n",
        "hiu = HewanAir('hiu',sirip='lebar')\n",
        "\n",
        "hewan.gerak()\n",
        "kambing.gerak()\n",
        "hiu.gerak()\n"
      ],
      "execution_count": 0,
      "outputs": []
    },
    {
      "source": [
        "# Pendekatan Prosedural vs OOP"
      ],
      "cell_type": "markdown",
      "metadata": {}
    },
    {
      "cell_type": "code",
      "metadata": {
        "cell_style": "split",
        "id": "B0e6TwquJelT",
        "colab_type": "code",
        "colab": {}
      },
      "source": [
        "stack = []\n",
        "\n",
        "def push(val):\n",
        "    stack.append(val)\n",
        "\n",
        "\n",
        "def pop():\n",
        "    val = stack[-1]\n",
        "    del stack[-1]\n",
        "    return val\n",
        "\n",
        "push(3)\n",
        "push(2)\n",
        "push(1)\n",
        "\n",
        "print(pop())\n",
        "print(pop())\n",
        "print(pop())"
      ],
      "execution_count": 0,
      "outputs": []
    },
    {
      "cell_type": "code",
      "metadata": {
        "cell_style": "split",
        "id": "hxevKJydJelW",
        "colab_type": "code",
        "colab": {}
      },
      "source": [
        "class Stack:\n",
        "    def __init__(self):\n",
        "        self.stackList = []\n",
        "\n",
        "stackObject = Stack()\n",
        "print(len(stackObject.stackList))\n"
      ],
      "execution_count": 0,
      "outputs": []
    },
    {
      "cell_type": "markdown",
      "metadata": {
        "id": "Y2P7fZUyJelS",
        "colab_type": "text"
      },
      "source": [
        "## Enkapsulasi\n",
        "\n",
        "Menyembunyikan atribut dan behavior yang bersifat private dari kelas lainnya.\n",
        "Enkapsulasi di python sangat sederhana, menyembunyikan atribut (tidak sepenuhnya) yaitu dengan menggunakan `__` (dua garis bawah) di awal penamaan atribut.\n",
        "\n",
        "> Di bahasa pemrograman yang lain mungkin anda akan menemukan hal yang lebih kompleks, cth: `public`,`virtual`, `private`, `protected`.\n",
        "\n"
      ]
    },
    {
      "cell_type": "code",
      "metadata": {
        "cell_style": "split",
        "id": "N0IggmFVJela",
        "colab_type": "code",
        "colab": {}
      },
      "source": [
        "class Stack:\n",
        "    def __init__(self):\n",
        "        self.__stackList = [] # __ membuat private\n",
        "\n",
        "stackObject = Stack()\n",
        "print(len(stackObject.__stackList))"
      ],
      "execution_count": 0,
      "outputs": []
    },
    {
      "cell_type": "code",
      "metadata": {
        "cell_style": "split",
        "id": "_2AIqa50Jele",
        "colab_type": "code",
        "colab": {}
      },
      "source": [
        "class Stack:\n",
        "    def __init__(self):\n",
        "        self.__stackList = []\n",
        "\n",
        "    def push(self, val):\n",
        "        self.__stackList.append(val)\n",
        "\n",
        "    def pop(self):\n",
        "        val = self.__stackList[-1]\n",
        "        del self.__stackList[-1]\n",
        "        return val\n",
        "\n",
        "littleStack = Stack()\n",
        "anotherStack = Stack()\n",
        "funnyStack = Stack()\n",
        "\n",
        "littleStack.push(1)\n",
        "anotherStack.push(littleStack.pop() + 1)\n",
        "funnyStack.push(anotherStack.pop() - 2)\n",
        "\n",
        "print(funnyStack.pop()) "
      ],
      "execution_count": 0,
      "outputs": []
    },
    {
      "cell_type": "code",
      "metadata": {
        "cell_style": "split",
        "id": "XrDxE2ZeJelh",
        "colab_type": "code",
        "colab": {}
      },
      "source": [
        "class AddingStack(Stack):\n",
        "    def __init__(self):\n",
        "        Stack.__init__(self)\n",
        "        self.__sum = 0\n",
        "\n",
        "    def getSum(self):\n",
        "        return self.__sum\n",
        "\n",
        "    def push(self, val):\n",
        "        self.__sum += val\n",
        "        Stack.push(self, val)\n",
        "\n",
        "    def pop(self):\n",
        "        val = Stack.pop(self)\n",
        "        self.__sum -= val\n",
        "        return val\n",
        "\n",
        "\n",
        "stackObject = AddingStack()\n",
        "\n",
        "for i in range(5):\n",
        "    stackObject.push(i)\n",
        "print(stackObject.getSum())\n",
        "\n",
        "for i in range(5):\n",
        "    print(stackObject.pop())"
      ],
      "execution_count": 0,
      "outputs": []
    },
    {
      "cell_type": "markdown",
      "metadata": {
        "cell_style": "split",
        "id": "q9ij6A4oJelj",
        "colab_type": "text"
      },
      "source": [
        "### Properties and method:\n",
        "```python\n",
        "cls.__dict__\n",
        "cls.__name__\n",
        "cls.__module__\n",
        "hasattr(cls,'str')\n",
        "getattr(cls, 'str')\n",
        "setattr(cls,'str')\n",
        "cls is cls\n",
        "issubclass(ClassOne, ClassTwo)\n",
        "isinstance(objectName, ClassName)\n",
        "cls.__str__() \n",
        "```\n"
      ]
    },
    {
      "cell_type": "markdown",
      "metadata": {
        "id": "vhc4wBzAJelm",
        "colab_type": "text"
      },
      "source": [
        "## Multiple Inheritance"
      ]
    },
    {
      "cell_type": "code",
      "metadata": {
        "id": "Lz1Hso6hJelm",
        "colab_type": "code",
        "colab": {}
      },
      "source": [
        "class Left:\n",
        "    var = \"L\"\n",
        "    varLeft = \"LL\"\n",
        "    def fun(self):\n",
        "        return \"Left\"\n",
        "\n",
        "\n",
        "class Right:\n",
        "    var = \"R\"\n",
        "    varRight = \"RR\"\n",
        "    def fun(self):\n",
        "        return \"Right\"\n",
        "\n",
        "class Sub(Left, Right):\n",
        "    pass\n",
        "\n",
        "obj = Sub()\n",
        "\n",
        "print(obj.var, obj.varLeft, obj.varRight, obj.fun())"
      ],
      "execution_count": 8,
      "outputs": [
        {
          "output_type": "stream",
          "name": "stdout",
          "text": [
            "L LL RR Left\n"
          ]
        }
      ]
    },
    {
      "source": [
        "### issubclass() dan isinstance()"
      ],
      "cell_type": "markdown",
      "metadata": {}
    },
    {
      "cell_type": "code",
      "execution_count": 10,
      "metadata": {},
      "outputs": [
        {
          "output_type": "stream",
          "name": "stdout",
          "text": [
            "True\nTrue\nTrue\nTrue\nTrue\n"
          ]
        }
      ],
      "source": [
        "# issubclass\n",
        "# apakah suatu class adalah turunan/ sub dari class lain?\n",
        "print(issubclass(Sub, Left))\n",
        "\n",
        "print(issubclass(Sub, Right))\n",
        "\n",
        "print(isinstance(obj, Left))\n",
        "\n",
        "print(isinstance(obj, Right))\n",
        "\n",
        "\n"
      ]
    },
    {
      "cell_type": "code",
      "execution_count": 11,
      "metadata": {},
      "outputs": [
        {
          "output_type": "stream",
          "name": "stdout",
          "text": [
            "True\nTrue\nTrue\n"
          ]
        }
      ],
      "source": [
        "class SubSub(Sub):\n",
        "    pass\n",
        "\n",
        "obj_SubSub = SubSub()\n",
        "\n",
        "print(issubclass(SubSub, Sub))\n",
        "print(issubclass(SubSub, Right))\n",
        "\n",
        "print(isinstance(obj_SubSub, Right))"
      ]
    },
    {
      "cell_type": "code",
      "execution_count": null,
      "metadata": {},
      "outputs": [],
      "source": [
        "class Vehicle:\n",
        "    pass\n",
        "\n",
        "\n",
        "class LandVehicle(Vehicle):\n",
        "    pass\n",
        "\n",
        "\n",
        "class TrackedVehicle(LandVehicle):\n",
        "    pass\n",
        "\n",
        "\n",
        "for cls1 in [Vehicle, LandVehicle, TrackedVehicle]:\n",
        "    for cls2 in [Vehicle, LandVehicle, TrackedVehicle]:\n",
        "        print(issubclass(cls1, cls2), end=\"\\t\")\n",
        "    print()"
      ]
    },
    {
      "source": [
        "### is Operator\n",
        "is operator memperlihatkan apakah dua variable (object_one and object_two here) mengacu ke object yang sama."
      ],
      "cell_type": "markdown",
      "metadata": {}
    },
    {
      "cell_type": "code",
      "execution_count": null,
      "metadata": {},
      "outputs": [],
      "source": [
        "class SampleClass:\n",
        "    def __init__(self, val):\n",
        "        self.val = val\n",
        "\n",
        "\n",
        "object_1 = SampleClass(0)\n",
        "object_2 = SampleClass(2)\n",
        "object_3 = object_1\n",
        "object_3.val += 1\n",
        "\n",
        "print(object_1 is object_2)\n",
        "print(object_2 is object_3)\n",
        "print(object_3 is object_1)\n",
        "print(object_1.val, object_2.val, object_3.val)\n",
        "\n",
        "string_1 = \"Mary had a little \"\n",
        "string_2 = \"Mary had a little lamb\"\n",
        "string_1 += \"lamb\"\n",
        "\n",
        "print(string_1 == string_2, string_1 is string_2)"
      ]
    },
    {
      "source": [
        "### MRO & Diamond Problem"
      ],
      "cell_type": "markdown",
      "metadata": {}
    },
    {
      "cell_type": "code",
      "execution_count": 17,
      "metadata": {},
      "outputs": [],
      "source": [
        "class Top:\n",
        "    def m_top(self):\n",
        "        print(\"top\")\n",
        "\n",
        "\n",
        "class Middle(Top):\n",
        "    def m_middle(self):\n",
        "        print(\"middle\")"
      ]
    },
    {
      "cell_type": "code",
      "execution_count": 15,
      "metadata": {},
      "outputs": [
        {
          "output_type": "error",
          "ename": "TypeError",
          "evalue": "Cannot create a consistent method resolution\norder (MRO) for bases Top, Middle",
          "traceback": [
            "\u001b[1;31m---------------------------------------------------------------------------\u001b[0m",
            "\u001b[1;31mTypeError\u001b[0m                                 Traceback (most recent call last)",
            "\u001b[1;32m<ipython-input-15-1c1760c56498>\u001b[0m in \u001b[0;36m<module>\u001b[1;34m\u001b[0m\n\u001b[1;32m----> 1\u001b[1;33m \u001b[1;32mclass\u001b[0m \u001b[0mBottom\u001b[0m\u001b[1;33m(\u001b[0m\u001b[0mTop\u001b[0m\u001b[1;33m,\u001b[0m \u001b[0mMiddle\u001b[0m\u001b[1;33m)\u001b[0m\u001b[1;33m:\u001b[0m\u001b[1;33m\u001b[0m\u001b[1;33m\u001b[0m\u001b[0m\n\u001b[0m\u001b[0;32m      2\u001b[0m     \u001b[1;32mdef\u001b[0m \u001b[0mm_bottom\u001b[0m\u001b[1;33m(\u001b[0m\u001b[0mself\u001b[0m\u001b[1;33m)\u001b[0m\u001b[1;33m:\u001b[0m\u001b[1;33m\u001b[0m\u001b[1;33m\u001b[0m\u001b[0m\n\u001b[0;32m      3\u001b[0m         \u001b[0mprint\u001b[0m\u001b[1;33m(\u001b[0m\u001b[1;34m\"bottom\"\u001b[0m\u001b[1;33m)\u001b[0m\u001b[1;33m\u001b[0m\u001b[1;33m\u001b[0m\u001b[0m\n\u001b[0;32m      4\u001b[0m \u001b[1;33m\u001b[0m\u001b[0m\n\u001b[0;32m      5\u001b[0m \u001b[1;33m\u001b[0m\u001b[0m\n",
            "\u001b[1;31mTypeError\u001b[0m: Cannot create a consistent method resolution\norder (MRO) for bases Top, Middle"
          ]
        }
      ],
      "source": [
        "# MRO Problem\n",
        "class Bottom(Top, Middle):\n",
        "    def m_bottom(self):\n",
        "        print(\"bottom\")\n",
        "\n",
        "\n",
        "object = Bottom()\n",
        "object.m_bottom()\n",
        "object.m_middle()\n",
        "object.m_top()"
      ]
    },
    {
      "cell_type": "code",
      "execution_count": 16,
      "metadata": {},
      "outputs": [
        {
          "output_type": "stream",
          "name": "stdout",
          "text": [
            "bottom\nmiddle\ntop\n"
          ]
        }
      ],
      "source": [
        "class Bottom(Middle, Top):\n",
        "    def m_bottom(self):\n",
        "        print(\"bottom\")\n",
        "\n",
        "\n",
        "object = Bottom()\n",
        "object.m_bottom()\n",
        "object.m_middle()\n",
        "object.m_top()"
      ]
    },
    {
      "cell_type": "code",
      "execution_count": 20,
      "metadata": {},
      "outputs": [
        {
          "output_type": "stream",
          "name": "stdout",
          "text": [
            "bottom\nmiddle_left\ntop\n"
          ]
        }
      ],
      "source": [
        "# Diamond Problem\n",
        "class Top:\n",
        "    def m_top(self):\n",
        "        print(\"top\")\n",
        "\n",
        "\n",
        "class Middle_Left(Top):\n",
        "    def m_middle(self):\n",
        "        print(\"middle_left\")\n",
        "\n",
        "\n",
        "class Middle_Right(Top):\n",
        "    def m_middle(self):\n",
        "        print(\"middle_right\")\n",
        "\n",
        "\n",
        "class Bottom(Middle_Left, Middle_Right):\n",
        "    def m_bottom(self):\n",
        "        print(\"bottom\")\n",
        "\n",
        "\n",
        "object = Bottom()\n",
        "object.m_bottom()\n",
        "object.m_middle()\n",
        "object.m_top()"
      ]
    },
    {
      "source": [
        "### Exception"
      ],
      "cell_type": "markdown",
      "metadata": {
        "id": "plh19QJ3Jelo",
        "colab_type": "text"
      }
    },
    {
      "cell_type": "code",
      "metadata": {
        "cell_style": "split",
        "id": "fNu-nWx4Jelp",
        "colab_type": "code",
        "colab": {}
      },
      "source": [
        "def reciprocal(n):\n",
        "    try:\n",
        "        n = 1 / n\n",
        "    except ZeroDivisionError:\n",
        "        print(\"Division failed\")\n",
        "        n = None\n",
        "    else:\n",
        "        print(\"Everything went fine\")\n",
        "    finally:\n",
        "        print(\"It's time to say goodbye\")\n",
        "        return n\n",
        "\n",
        "print(reciprocal(2))\n",
        "print(reciprocal(0))"
      ],
      "execution_count": 0,
      "outputs": []
    },
    {
      "cell_type": "code",
      "metadata": {
        "cell_style": "split",
        "id": "XgkMMSnpJelr",
        "colab_type": "code",
        "colab": {}
      },
      "source": [
        "try:\n",
        "    i = int(\"Hello!\")\n",
        "except Exception as e:\n",
        "    print(e)\n",
        "    print(e.__str__())"
      ],
      "execution_count": 0,
      "outputs": []
    },
    {
      "cell_type": "code",
      "metadata": {
        "id": "_mJWYItaJelt",
        "colab_type": "code",
        "colab": {}
      },
      "source": [
        "def printExcTree(thisclass, nest = 0):\n",
        "    if nest > 1:\n",
        "        print(\"   |\" * (nest - 1), end=\"\")\n",
        "    if nest > 0:\n",
        "        print(\"   +---\", end=\"\")\n",
        "\n",
        "    print(thisclass.__name__)\n",
        "\n",
        "    for subclass in thisclass.__subclasses__():\n",
        "        printExcTree(subclass, nest + 1)\n",
        "\n",
        "printExcTree(BaseException)"
      ],
      "execution_count": 0,
      "outputs": []
    },
    {
      "cell_type": "code",
      "metadata": {
        "id": "ix4CfK2AJelv",
        "colab_type": "code",
        "colab": {}
      },
      "source": [
        "try:\n",
        "\traise Exception(\"my exception\")\n",
        "except Exception as e:\n",
        "\tprint(e, e.__str__(), sep=' : ', end=' : ')\n",
        "\tprint(e.args)\n"
      ],
      "execution_count": 0,
      "outputs": []
    },
    {
      "source": [
        "- The stack - the procedural approach vs. the object-oriented approach\n",
        "#\n",
        "- Instance variables\n",
        "- Class variables (seperti static)\n",
        "- Checking an attribute's existence\n",
        "#\n",
        "- Methods in detail\n",
        "- The inner life of classes and objects\n",
        "- Reflection and introspection\n",
        "  - introspection, which is the ability of a program to examine the type or properties of an object at runtime  \n",
        "  - reflection, which goes a step further, and is the ability of a program to manipulate the values, properties and/or functions of an object at runtime\n",
        "\n",
        "- Investigating classes\n",
        "#\n",
        "- Inheritance - why and how?\n",
        "- issubclass()\n",
        "- isinstance()\n",
        "- == vs is\n",
        "- How Python finds properties and methods\n",
        "- How to build a hierarchy of classes\n",
        "- Single inheritance vs. multiple inheritance\n",
        "- What is Method Resolution Order (MRO) and why is it that not all inheritances make sense? *\n",
        "- The diamond problem\n",
        "- More about exceptions\n",
        "- Exceptions are classes\n",
        "- Detailed anatomy of exceptions\n",
        "- How to create your own exception\n"
      ],
      "cell_type": "markdown",
      "metadata": {}
    }
  ]
}